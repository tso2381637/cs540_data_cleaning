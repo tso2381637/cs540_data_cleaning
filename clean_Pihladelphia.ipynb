{
 "cells": [
  {
   "cell_type": "code",
   "execution_count": 1,
   "metadata": {},
   "outputs": [],
   "source": [
    "import pandas as pd\n",
    "import numpy as np\n",
    "from sqlalchemy import create_engine\n",
    "import pymysql\n",
    "import re\n",
    "from dotenv import load_dotenv\n",
    "load_dotenv()\n",
    "import os"
   ]
  },
  {
   "cell_type": "code",
   "execution_count": null,
   "metadata": {},
   "outputs": [],
   "source": [
    "db_connection_str = os.getenv(\"DB_CONNECTION_STR\")\n",
    "\n",
    "db_connection = create_engine(db_connection_str)\n",
    "\n",
    "df = pd.read_sql('SELECT * FROM crash_db_Pihladelphia', con=db_connection)\n",
    "df = df.replace('',np.nan)"
   ]
  },
  {
   "cell_type": "code",
   "execution_count": null,
   "metadata": {},
   "outputs": [],
   "source": [
    "df.shape"
   ]
  },
  {
   "cell_type": "code",
   "execution_count": null,
   "metadata": {},
   "outputs": [],
   "source": [
    "df.head()"
   ]
  },
  {
   "cell_type": "code",
   "execution_count": null,
   "metadata": {},
   "outputs": [],
   "source": [
    "df = df[1:]\n",
    "df.columns"
   ]
  },
  {
   "cell_type": "code",
   "execution_count": null,
   "metadata": {},
   "outputs": [],
   "source": [
    "df2 = pd.DataFrame()\n",
    "df2['cid'] = df.cid\n",
    "df2['city'] = df.dataFrom\n",
    "df['time_of_day'] = df['time_of_day'].astype('str').str.zfill(4)\n",
    "df2['crash_time'] = df.crash_year+'/'+df.crash_month+'/1' + ' ' + df.time_of_day\n",
    "df2['latitude'] = df.dec_lat\n",
    "df2['longitude'] = df.dec_long\n",
    "df.injury_count = df.injury_count.astype(int)\n",
    "df.fatal_count = df.fatal_count.astype(int)\n",
    "df2['injured_count'] = df.injury_count + df.fatal_count\n",
    "\n",
    "df2['crash_time'] = pd.to_datetime(df2['crash_time'],errors='coerce')\n",
    "df2['crash_date'] = pd.to_datetime(df2['crash_time'].dt.date)"
   ]
  },
  {
   "cell_type": "code",
   "execution_count": null,
   "metadata": {},
   "outputs": [],
   "source": [
    "df2.head()"
   ]
  },
  {
   "cell_type": "code",
   "execution_count": null,
   "metadata": {},
   "outputs": [],
   "source": [
    "df2.to_sql('cleaned_crash_Pihladelphia',con = db_connection, if_exists=\"replace\",index=False)"
   ]
  },
  {
   "cell_type": "code",
   "execution_count": null,
   "metadata": {},
   "outputs": [],
   "source": [
    "df2.to_sql('home_allcleanedcrashdata',con = db_connection, if_exists=\"append\",index=False)"
   ]
  }
 ],
 "metadata": {
  "kernelspec": {
   "display_name": "Python 3",
   "language": "python",
   "name": "python3"
  },
  "language_info": {
   "codemirror_mode": {
    "name": "ipython",
    "version": 3
   },
   "file_extension": ".py",
   "mimetype": "text/x-python",
   "name": "python",
   "nbconvert_exporter": "python",
   "pygments_lexer": "ipython3",
   "version": "3.7.6"
  }
 },
 "nbformat": 4,
 "nbformat_minor": 2
}
